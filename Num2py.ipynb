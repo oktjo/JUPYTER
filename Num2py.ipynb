{
 "cells": [
  {
   "cell_type": "markdown",
   "id": "19117277-12fc-4def-b174-2ac157b58cc3",
   "metadata": {},
   "source": [
    "NUMPY"
   ]
  },
  {
   "cell_type": "code",
   "execution_count": null,
   "id": "88bd0535-c2e0-49c1-8c1d-140fa5d0e19e",
   "metadata": {},
   "outputs": [],
   "source": [
    "import numpy as np \n",
    "data = np.array([[1.5,-0.1,3],[0,-3,6.5]])\n"
   ]
  },
  {
   "cell_type": "code",
   "execution_count": 2,
   "id": "08e58151-5b2c-4774-b49b-453b8692ac06",
   "metadata": {},
   "outputs": [
    {
     "data": {
      "text/plain": [
       "array([[ 1.5, -0.1,  3. ],\n",
       "       [ 0. , -3. ,  6.5]])"
      ]
     },
     "execution_count": 2,
     "metadata": {},
     "output_type": "execute_result"
    }
   ],
   "source": [
    "data"
   ]
  },
  {
   "cell_type": "code",
   "execution_count": 3,
   "id": "d7163162-13ae-45d3-9b4b-6ff5886c138a",
   "metadata": {},
   "outputs": [
    {
     "data": {
      "text/plain": [
       "array([[ 15.,  -1.,  30.],\n",
       "       [  0., -30.,  65.]])"
      ]
     },
     "execution_count": 3,
     "metadata": {},
     "output_type": "execute_result"
    }
   ],
   "source": [
    "data*10"
   ]
  },
  {
   "cell_type": "code",
   "execution_count": 4,
   "id": "22fb628e-246a-493b-be84-4299a1a8df0a",
   "metadata": {},
   "outputs": [
    {
     "data": {
      "text/plain": [
       "array([[ 3. , -0.2,  6. ],\n",
       "       [ 0. , -6. , 13. ]])"
      ]
     },
     "execution_count": 4,
     "metadata": {},
     "output_type": "execute_result"
    }
   ],
   "source": [
    "data+data\n"
   ]
  },
  {
   "cell_type": "code",
   "execution_count": 5,
   "id": "8d16f647-ada4-4861-b34e-ae0473074fd6",
   "metadata": {},
   "outputs": [
    {
     "data": {
      "text/plain": [
       "(2, 3)"
      ]
     },
     "execution_count": 5,
     "metadata": {},
     "output_type": "execute_result"
    }
   ],
   "source": [
    "data.shape"
   ]
  },
  {
   "cell_type": "code",
   "execution_count": 9,
   "id": "52160e50-b8c3-4abf-a4ab-3bc0799e93e9",
   "metadata": {},
   "outputs": [
    {
     "data": {
      "text/plain": [
       "dtype('float64')"
      ]
     },
     "execution_count": 9,
     "metadata": {},
     "output_type": "execute_result"
    }
   ],
   "source": [
    "data.dtype\n"
   ]
  },
  {
   "cell_type": "code",
   "execution_count": 10,
   "id": "5b8a8a36-6a84-4ee8-b5de-f9e9a01d5d08",
   "metadata": {},
   "outputs": [],
   "source": [
    "###Creating ndarraysabs\n",
    "data1 = [1,2,3,4,5]"
   ]
  },
  {
   "cell_type": "code",
   "execution_count": 11,
   "id": "5a5d0d96-86e1-491b-b060-815c183ad75e",
   "metadata": {},
   "outputs": [],
   "source": [
    "arr= data1"
   ]
  },
  {
   "cell_type": "code",
   "execution_count": 12,
   "id": "62f92cc6-bdad-4491-b3d5-b4d34c0f2c90",
   "metadata": {},
   "outputs": [
    {
     "data": {
      "text/plain": [
       "[1, 2, 3, 4, 5]"
      ]
     },
     "execution_count": 12,
     "metadata": {},
     "output_type": "execute_result"
    }
   ],
   "source": [
    "arr"
   ]
  },
  {
   "cell_type": "code",
   "execution_count": 13,
   "id": "66c49334-9fb7-4220-98ec-190ac3f0740f",
   "metadata": {},
   "outputs": [
    {
     "ename": "NameError",
     "evalue": "name 'array' is not defined",
     "output_type": "error",
     "traceback": [
      "\u001b[1;31m---------------------------------------------------------------------------\u001b[0m",
      "\u001b[1;31mNameError\u001b[0m                                 Traceback (most recent call last)",
      "Cell \u001b[1;32mIn[13], line 3\u001b[0m\n\u001b[0;32m      1\u001b[0m arr1 \u001b[38;5;241m=\u001b[39m np\u001b[38;5;241m.\u001b[39marray(data1)\n\u001b[0;32m      2\u001b[0m arr1\n\u001b[1;32m----> 3\u001b[0m \u001b[43marray\u001b[49m([\u001b[38;5;241m6.\u001b[39m , \u001b[38;5;241m7.5\u001b[39m, \u001b[38;5;241m8.\u001b[39m , \u001b[38;5;241m0.\u001b[39m , \u001b[38;5;241m1.\u001b[39m ])\n",
      "\u001b[1;31mNameError\u001b[0m: name 'array' is not defined"
     ]
    }
   ],
   "source": [
    "arr1 = np.array(data1)\n",
    "arr1\n",
    "array([6. , 7.5, 8. , 0. , 1. ])"
   ]
  },
  {
   "cell_type": "code",
   "execution_count": 14,
   "id": "4a86cb0f-83c6-4eb9-8072-37b56378fead",
   "metadata": {},
   "outputs": [],
   "source": [
    "arr1 = np.array(data1)\n"
   ]
  },
  {
   "cell_type": "code",
   "execution_count": 15,
   "id": "6a5fd262-477e-4b83-943d-f5f3096c703b",
   "metadata": {},
   "outputs": [
    {
     "data": {
      "text/plain": [
       "array([1, 2, 3, 4, 5])"
      ]
     },
     "execution_count": 15,
     "metadata": {},
     "output_type": "execute_result"
    }
   ],
   "source": [
    "arr1"
   ]
  },
  {
   "cell_type": "code",
   "execution_count": 16,
   "id": "3904bf82-47cd-487d-a7b3-0e98c3ca4e10",
   "metadata": {},
   "outputs": [
    {
     "ename": "NameError",
     "evalue": "name 'array' is not defined",
     "output_type": "error",
     "traceback": [
      "\u001b[1;31m---------------------------------------------------------------------------\u001b[0m",
      "\u001b[1;31mNameError\u001b[0m                                 Traceback (most recent call last)",
      "Cell \u001b[1;32mIn[16], line 1\u001b[0m\n\u001b[1;32m----> 1\u001b[0m \u001b[43marray\u001b[49m([\u001b[38;5;241m6.\u001b[39m , \u001b[38;5;241m7.5\u001b[39m, \u001b[38;5;241m8.\u001b[39m , \u001b[38;5;241m0.\u001b[39m , \u001b[38;5;241m1.\u001b[39m ])\n",
      "\u001b[1;31mNameError\u001b[0m: name 'array' is not defined"
     ]
    }
   ],
   "source": [
    "array([6. , 7.5, 8. , 0. , 1. ])"
   ]
  },
  {
   "cell_type": "code",
   "execution_count": 17,
   "id": "ea038d91-2176-4a8a-a703-4ac08e1753a2",
   "metadata": {},
   "outputs": [],
   "source": [
    " data2 = [[1, 2, 3, 4], [5, 6, 7, 8]]"
   ]
  },
  {
   "cell_type": "code",
   "execution_count": 18,
   "id": "e9d46600-d898-4e8d-b0bb-9f10b1128911",
   "metadata": {},
   "outputs": [],
   "source": [
    "arr2 = np.array(data2)"
   ]
  },
  {
   "cell_type": "code",
   "execution_count": 19,
   "id": "fa43e1ac-c658-41ce-b274-84872928e708",
   "metadata": {},
   "outputs": [
    {
     "data": {
      "text/plain": [
       "array([[1, 2, 3, 4],\n",
       "       [5, 6, 7, 8]])"
      ]
     },
     "execution_count": 19,
     "metadata": {},
     "output_type": "execute_result"
    }
   ],
   "source": [
    "arr2"
   ]
  },
  {
   "cell_type": "code",
   "execution_count": 23,
   "id": "e416b198-3bec-4c1b-a242-bb135535c026",
   "metadata": {},
   "outputs": [
    {
     "ename": "IndentationError",
     "evalue": "expected an indented block after function definition on line 1 (4226701680.py, line 2)",
     "output_type": "error",
     "traceback": [
      "\u001b[1;36m  Cell \u001b[1;32mIn[23], line 2\u001b[1;36m\u001b[0m\n\u001b[1;33m    pass:\u001b[0m\n\u001b[1;37m    ^\u001b[0m\n\u001b[1;31mIndentationError\u001b[0m\u001b[1;31m:\u001b[0m expected an indented block after function definition on line 1\n"
     ]
    }
   ],
   "source": [
    "def lesseroftwoevents(a,b):\n",
    "pass:"
   ]
  },
  {
   "cell_type": "code",
   "execution_count": 24,
   "id": "f663e53b-aeb1-409f-9e8d-9ba9af6d17b2",
   "metadata": {},
   "outputs": [
    {
     "ename": "IndentationError",
     "evalue": "expected an indented block after function definition on line 1 (4226701680.py, line 2)",
     "output_type": "error",
     "traceback": [
      "\u001b[1;36m  Cell \u001b[1;32mIn[24], line 2\u001b[1;36m\u001b[0m\n\u001b[1;33m    pass:\u001b[0m\n\u001b[1;37m    ^\u001b[0m\n\u001b[1;31mIndentationError\u001b[0m\u001b[1;31m:\u001b[0m expected an indented block after function definition on line 1\n"
     ]
    }
   ],
   "source": [
    "def lesseroftwoevents(a,b):\n",
    "pass:"
   ]
  },
  {
   "cell_type": "code",
   "execution_count": 26,
   "id": "d99eb6ed-5592-445a-aa66-d339d2c84269",
   "metadata": {},
   "outputs": [
    {
     "ename": "SyntaxError",
     "evalue": "invalid syntax (124926213.py, line 2)",
     "output_type": "error",
     "traceback": [
      "\u001b[1;36m  Cell \u001b[1;32mIn[26], line 2\u001b[1;36m\u001b[0m\n\u001b[1;33m    pass:\u001b[0m\n\u001b[1;37m        ^\u001b[0m\n\u001b[1;31mSyntaxError\u001b[0m\u001b[1;31m:\u001b[0m invalid syntax\n"
     ]
    }
   ],
   "source": [
    "def lesse_rof_twoevents(a,b):\n",
    "    pass:"
   ]
  },
  {
   "cell_type": "code",
   "execution_count": 28,
   "id": "fb47bf01-e65f-48ef-bf98-d3298085f230",
   "metadata": {},
   "outputs": [
    {
     "ename": "IndentationError",
     "evalue": "expected an indented block after function definition on line 1 (2256911784.py, line 2)",
     "output_type": "error",
     "traceback": [
      "\u001b[1;36m  Cell \u001b[1;32mIn[28], line 2\u001b[1;36m\u001b[0m\n\u001b[1;33m    pass\u001b[0m\n\u001b[1;37m    ^\u001b[0m\n\u001b[1;31mIndentationError\u001b[0m\u001b[1;31m:\u001b[0m expected an indented block after function definition on line 1\n"
     ]
    }
   ],
   "source": [
    "def dog(name):\n",
    "pass"
   ]
  },
  {
   "cell_type": "code",
   "execution_count": 29,
   "id": "78b94d03-9873-405b-bee3-17e8fd33fe66",
   "metadata": {},
   "outputs": [],
   "source": [
    "def dog(name):\n",
    "    pass\n",
    "    "
   ]
  },
  {
   "cell_type": "code",
   "execution_count": 30,
   "id": "5709336f-4efb-42af-a687-e97e567c8740",
   "metadata": {},
   "outputs": [],
   "source": [
    "dog('smiggle')"
   ]
  },
  {
   "cell_type": "code",
   "execution_count": 31,
   "id": "4406aaed-bd83-4421-a55e-f625083a9016",
   "metadata": {},
   "outputs": [
    {
     "data": {
      "text/plain": [
       "<function __main__.dog(name)>"
      ]
     },
     "execution_count": 31,
     "metadata": {},
     "output_type": "execute_result"
    }
   ],
   "source": [
    "dog"
   ]
  },
  {
   "cell_type": "code",
   "execution_count": null,
   "id": "54b04c27-bd2b-4458-8fe1-13f43d36c914",
   "metadata": {},
   "outputs": [],
   "source": []
  }
 ],
 "metadata": {
  "kernelspec": {
   "display_name": "Python 3 (ipykernel)",
   "language": "python",
   "name": "python3"
  },
  "language_info": {
   "codemirror_mode": {
    "name": "ipython",
    "version": 3
   },
   "file_extension": ".py",
   "mimetype": "text/x-python",
   "name": "python",
   "nbconvert_exporter": "python",
   "pygments_lexer": "ipython3",
   "version": "3.12.0"
  }
 },
 "nbformat": 4,
 "nbformat_minor": 5
}

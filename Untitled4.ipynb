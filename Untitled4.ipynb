{
 "cells": [
  {
   "cell_type": "raw",
   "id": "9d9ecc5a-bdd3-427c-9dbc-f1e1b7d9d50c",
   "metadata": {},
   "source": [
    "htghgmg\n"
   ]
  },
  {
   "cell_type": "code",
   "execution_count": null,
   "id": "69ee20b3-d4cf-4475-ae16-aee8a33b5bf4",
   "metadata": {},
   "outputs": [],
   "source": []
  }
 ],
 "metadata": {
  "kernelspec": {
   "display_name": "Python 3 (ipykernel)",
   "language": "python",
   "name": "python3"
  },
  "language_info": {
   "codemirror_mode": {
    "name": "ipython",
    "version": 3
   },
   "file_extension": ".py",
   "mimetype": "text/x-python",
   "name": "python",
   "nbconvert_exporter": "python",
   "pygments_lexer": "ipython3",
   "version": "3.12.0"
  }
 },
 "nbformat": 4,
 "nbformat_minor": 5
}

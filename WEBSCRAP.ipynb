{
 "cells": [
  {
   "cell_type": "code",
   "execution_count": 1,
   "id": "26de9b3d-5156-4645-9b97-cfa645aead97",
   "metadata": {},
   "outputs": [],
   "source": [
    "import requests\n",
    "from bs4 import BeautifulSoup\n",
    "import pandas as pd"
   ]
  },
  {
   "cell_type": "code",
   "execution_count": 23,
   "id": "1461f346-5abe-4609-9667-574f531cb050",
   "metadata": {},
   "outputs": [],
   "source": [
    "# headers={'User-Agent':\n",
    "#         'Mozilla/5.0 (Windows NT 10.0; Win64; x64) AppleWebKit/537.36 (KHTML, like Gecko) Chrome/126.0.0.0 Safari/537.36 Edg/126.0.2592.102'}\n",
    "# page = \"https://www.transfermarkt.co.uk/transfers/transferrekorde/statistik/top/plus/0/galerie/0?saison_id=2000\"\n",
    "# pagetree= requests.get(page,headers=headers)\n",
    "# pageSoup = BeautifulSoup(pagetree.content,'html.parser')\n",
    "\n",
    "headers = {\n",
    "    'User-Agent': 'Mozilla/5.0 (Windows NT 10.0; Win64; x64) AppleWebKit/537.36 (KHTML, like Gecko) Chrome/126.0.0.0 Safari/537.36 Edg/126.0.2592.102'\n",
    "}\n",
    "page = \"https://www.transfermarkt.co.uk/transfers/transferrekorde/statistik/top/plus/0/galerie/0?saison_id=2000\"\n",
    "pagetree = requests.get(page, headers=headers)\n",
    "\n",
    "# Check the response status code\n",
    "if pagetree.status_code == 200:\n",
    "    pageSoup = BeautifulSoup(pagetree.content, 'html.parser')"
   ]
  },
  {
   "cell_type": "code",
   "execution_count": 26,
   "id": "d37365cc-96e0-4614-9f85-ff3ffba6356d",
   "metadata": {},
   "outputs": [
    {
     "ename": "NameError",
     "evalue": "name 'values' is not defined",
     "output_type": "error",
     "traceback": [
      "\u001b[1;31m---------------------------------------------------------------------------\u001b[0m",
      "\u001b[1;31mNameError\u001b[0m                                 Traceback (most recent call last)",
      "Cell \u001b[1;32mIn[26], line 2\u001b[0m\n\u001b[0;32m      1\u001b[0m players \u001b[38;5;241m=\u001b[39m pageSoup\u001b[38;5;241m.\u001b[39mfind_all(\u001b[38;5;124m\"\u001b[39m\u001b[38;5;124mtd\u001b[39m\u001b[38;5;124m\"\u001b[39m, {\u001b[38;5;124m\"\u001b[39m\u001b[38;5;124mclass\u001b[39m\u001b[38;5;124m\"\u001b[39m: \u001b[38;5;124m\"\u001b[39m\u001b[38;5;124mrechts hauptlink\u001b[39m\u001b[38;5;124m\"\u001b[39m})\n\u001b[1;32m----> 2\u001b[0m \u001b[43mvalues\u001b[49m[\u001b[38;5;241m0\u001b[39m]\u001b[38;5;241m.\u001b[39mtext\n\u001b[0;32m      4\u001b[0m \u001b[38;5;66;03m# else:\u001b[39;00m\n\u001b[0;32m      5\u001b[0m \u001b[38;5;66;03m#         print(\"No players found with class 'spielprofil_tooltip'.\")\u001b[39;00m\n\u001b[0;32m      6\u001b[0m \u001b[38;5;66;03m# else:\u001b[39;00m\n\u001b[0;32m      7\u001b[0m     \n\u001b[0;32m      8\u001b[0m \u001b[38;5;66;03m#     print(f\"Failed to retrieve the page. Status code: {pagetree.status_code}\")\u001b[39;00m\n",
      "\u001b[1;31mNameError\u001b[0m: name 'values' is not defined"
     ]
    }
   ],
   "source": [
    "players = pageSoup.find_all(\"a\", {\"class\": \"spielprofil_tooltip\"})\n",
    "players[0].text\n",
    "    \n",
    "# else:\n",
    "#         print(\"No players found with class 'spielprofil_tooltip'.\")\n",
    "# else:\n",
    "    \n",
    "#     print(f\"Failed to retrieve the page. Status code: {pagetree.status_code}\")"
   ]
  },
  {
   "cell_type": "code",
   "execution_count": null,
   "id": "835ca3f1-f9ec-4136-885c-749d23374222",
   "metadata": {},
   "outputs": [],
   "source": []
  }
 ],
 "metadata": {
  "kernelspec": {
   "display_name": "Python 3 (ipykernel)",
   "language": "python",
   "name": "python3"
  },
  "language_info": {
   "codemirror_mode": {
    "name": "ipython",
    "version": 3
   },
   "file_extension": ".py",
   "mimetype": "text/x-python",
   "name": "python",
   "nbconvert_exporter": "python",
   "pygments_lexer": "ipython3",
   "version": "3.12.0"
  }
 },
 "nbformat": 4,
 "nbformat_minor": 5
}

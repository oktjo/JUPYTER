{
 "cells": [
  {
   "cell_type": "code",
   "execution_count": 3,
   "id": "e0424ff0-e7e7-4d86-80e0-8d22d2de0c6f",
   "metadata": {},
   "outputs": [],
   "source": [
    "import pandas as pd \n",
    "import matplotlib.pyplot  as plt \n",
    "import numpy as np \n",
    "from glob import glob\n",
    "import csv"
   ]
  },
  {
   "cell_type": "code",
   "execution_count": 5,
   "id": "890ebad1-d864-4556-ab22-ef9d2f9915ed",
   "metadata": {},
   "outputs": [],
   "source": [
    "\n",
    "\n"
   ]
  },
  {
   "cell_type": "code",
   "execution_count": 7,
   "id": "f8f065d0-607c-4a54-8886-53c431c276d2",
   "metadata": {},
   "outputs": [
    {
     "data": {
      "text/plain": [
       "['dogimg.jpg']"
      ]
     },
     "execution_count": 7,
     "metadata": {},
     "output_type": "execute_result"
    }
   ],
   "source": [
    "ydog"
   ]
  },
  {
   "cell_type": "code",
   "execution_count": null,
   "id": "e333c0b2-0838-409f-942c-7f4880386fb8",
   "metadata": {},
   "outputs": [],
   "source": []
  }
 ],
 "metadata": {
  "kernelspec": {
   "display_name": "Python 3 (ipykernel)",
   "language": "python",
   "name": "python3"
  },
  "language_info": {
   "codemirror_mode": {
    "name": "ipython",
    "version": 3
   },
   "file_extension": ".py",
   "mimetype": "text/x-python",
   "name": "python",
   "nbconvert_exporter": "python",
   "pygments_lexer": "ipython3",
   "version": "3.12.0"
  }
 },
 "nbformat": 4,
 "nbformat_minor": 5
}
